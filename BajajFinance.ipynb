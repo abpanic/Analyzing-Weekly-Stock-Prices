{
 "cells": [
  {
   "cell_type": "markdown",
   "metadata": {},
   "source": [
    "# Baja Finance Stock Price Analysis"
   ]
  },
  {
   "attachments": {},
   "cell_type": "markdown",
   "metadata": {},
   "source": [
    "### Prerequisites\n",
    "\n",
    "Installing required libraries with pandas, matplotlib, and seaborn libraries."
   ]
  },
  {
   "cell_type": "code",
   "execution_count": null,
   "metadata": {},
   "outputs": [
    {
     "name": "stdout",
     "output_type": "stream",
     "text": [
      "Collecting pandas\n",
      "  Downloading pandas-2.0.1-cp310-cp310-manylinux_2_17_x86_64.manylinux2014_x86_64.whl (12.3 MB)\n",
      "\u001b[2K     \u001b[90m━━━━━━━━━━━━━━━━━━━━━━━━━━━━━━━━━━━━━━━━\u001b[0m \u001b[32m12.3/12.3 MB\u001b[0m \u001b[31m6.5 MB/s\u001b[0m eta \u001b[36m0:00:00\u001b[0m00:01\u001b[0m00:01\u001b[0m\n",
      "\u001b[?25hCollecting matplotlib\n",
      "  Downloading matplotlib-3.7.1-cp310-cp310-manylinux_2_17_x86_64.manylinux2014_x86_64.whl (11.6 MB)\n",
      "\u001b[2K     \u001b[90m━━━━━━━━━━━━━━━━━━━━━━━━━━━━━━━━━━━━━━━━\u001b[0m \u001b[32m11.6/11.6 MB\u001b[0m \u001b[31m7.0 MB/s\u001b[0m eta \u001b[36m0:00:00\u001b[0m00:01\u001b[0m00:01\u001b[0m\n",
      "\u001b[?25hCollecting seaborn\n",
      "  Downloading seaborn-0.12.2-py3-none-any.whl (293 kB)\n",
      "\u001b[2K     \u001b[90m━━━━━━━━━━━━━━━━━━━━━━━━━━━━━━━━━━━━━━━\u001b[0m \u001b[32m293.3/293.3 kB\u001b[0m \u001b[31m7.7 MB/s\u001b[0m eta \u001b[36m0:00:00\u001b[0m00:01\u001b[0m\n",
      "\u001b[?25hRequirement already satisfied: python-dateutil>=2.8.2 in /home/abpanick/.local/lib/python3.10/site-packages (from pandas) (2.8.2)\n",
      "Requirement already satisfied: pytz>=2020.1 in /home/abpanick/anaconda3/lib/python3.10/site-packages (from pandas) (2022.7)\n",
      "Collecting tzdata>=2022.1\n",
      "  Downloading tzdata-2023.3-py2.py3-none-any.whl (341 kB)\n",
      "\u001b[2K     \u001b[90m━━━━━━━━━━━━━━━━━━━━━━━━━━━━━━━━━━━━━━━\u001b[0m \u001b[32m341.8/341.8 kB\u001b[0m \u001b[31m9.3 MB/s\u001b[0m eta \u001b[36m0:00:00\u001b[0m00:01\u001b[0m\n",
      "\u001b[?25hCollecting numpy>=1.21.0\n",
      "  Downloading numpy-1.24.3-cp310-cp310-manylinux_2_17_x86_64.manylinux2014_x86_64.whl (17.3 MB)\n",
      "\u001b[2K     \u001b[90m━━━━━━━━━━━━━━━━━━━━━━━━━━━━━━━━━━━━━━━━\u001b[0m \u001b[32m17.3/17.3 MB\u001b[0m \u001b[31m7.2 MB/s\u001b[0m eta \u001b[36m0:00:00\u001b[0m00:01\u001b[0m00:01\u001b[0m\n",
      "\u001b[?25hCollecting cycler>=0.10\n",
      "  Downloading cycler-0.11.0-py3-none-any.whl (6.4 kB)\n",
      "Collecting kiwisolver>=1.0.1\n",
      "  Downloading kiwisolver-1.4.4-cp310-cp310-manylinux_2_12_x86_64.manylinux2010_x86_64.whl (1.6 MB)\n",
      "\u001b[2K     \u001b[90m━━━━━━━━━━━━━━━━━━━━━━━━━━━━━━━━━━━━━━━━\u001b[0m \u001b[32m1.6/1.6 MB\u001b[0m \u001b[31m7.4 MB/s\u001b[0m eta \u001b[36m0:00:00\u001b[0ma \u001b[36m0:00:01\u001b[0mm\n",
      "\u001b[?25hCollecting pyparsing>=2.3.1\n",
      "  Downloading pyparsing-3.0.9-py3-none-any.whl (98 kB)\n",
      "\u001b[2K     \u001b[90m━━━━━━━━━━━━━━━━━━━━━━━━━━━━━━━━━━━━━━━━\u001b[0m \u001b[32m98.3/98.3 kB\u001b[0m \u001b[31m7.2 MB/s\u001b[0m eta \u001b[36m0:00:00\u001b[0m\n",
      "\u001b[?25hCollecting contourpy>=1.0.1\n",
      "  Downloading contourpy-1.0.7-cp310-cp310-manylinux_2_17_x86_64.manylinux2014_x86_64.whl (300 kB)\n",
      "\u001b[2K     \u001b[90m━━━━━━━━━━━━━━━━━━━━━━━━━━━━━━━━━━━━━━━\u001b[0m \u001b[32m300.3/300.3 kB\u001b[0m \u001b[31m9.6 MB/s\u001b[0m eta \u001b[36m0:00:00\u001b[0m\n",
      "\u001b[?25hRequirement already satisfied: packaging>=20.0 in /home/abpanick/.local/lib/python3.10/site-packages (from matplotlib) (23.0)\n",
      "Collecting fonttools>=4.22.0\n",
      "  Downloading fonttools-4.39.3-py3-none-any.whl (1.0 MB)\n",
      "\u001b[2K     \u001b[90m━━━━━━━━━━━━━━━━━━━━━━━━━━━━━━━━━━━━━━━━\u001b[0m \u001b[32m1.0/1.0 MB\u001b[0m \u001b[31m7.6 MB/s\u001b[0m eta \u001b[36m0:00:00\u001b[0ma \u001b[36m0:00:01\u001b[0mm\n",
      "\u001b[?25hRequirement already satisfied: pillow>=6.2.0 in /home/abpanick/anaconda3/lib/python3.10/site-packages (from matplotlib) (9.4.0)\n",
      "Requirement already satisfied: six>=1.5 in /home/abpanick/anaconda3/lib/python3.10/site-packages (from python-dateutil>=2.8.2->pandas) (1.16.0)\n",
      "Installing collected packages: tzdata, pyparsing, numpy, kiwisolver, fonttools, cycler, pandas, contourpy, matplotlib, seaborn\n",
      "Successfully installed contourpy-1.0.7 cycler-0.11.0 fonttools-4.39.3 kiwisolver-1.4.4 matplotlib-3.7.1 numpy-1.24.3 pandas-2.0.1 pyparsing-3.0.9 seaborn-0.12.2 tzdata-2023.3\n",
      "Note: you may need to restart the kernel to use updated packages.\n"
     ]
    }
   ],
   "source": [
    "pip install pandas matplotlib seaborn"
   ]
  },
  {
   "attachments": {},
   "cell_type": "markdown",
   "metadata": {},
   "source": [
    "#### Step 1. Lets import these files "
   ]
  },
  {
   "cell_type": "code",
   "execution_count": 3,
   "metadata": {},
   "outputs": [],
   "source": [
    "import pandas as pd\n",
    "import matplotlib.pyplot as plt\n",
    "import seaborn as sns\n"
   ]
  },
  {
   "attachments": {},
   "cell_type": "markdown",
   "metadata": {},
   "source": [
    "#### Step 2. Load the data from csv files\n",
    "We will upload the file into dataframe.\n",
    "The primary task will be see the data type at head with this."
   ]
  },
  {
   "cell_type": "code",
   "execution_count": 4,
   "metadata": {},
   "outputs": [
    {
     "name": "stdout",
     "output_type": "stream",
     "text": [
      "         Date      Open      High       Low     Close  Adj Close    Volume\n",
      "0  2002-07-01  5.239737  5.656546  5.239737  5.590478   4.117699  203995.0\n",
      "1  2002-07-08  5.501093  5.758562  4.978382  5.319407   3.918041  548403.0\n",
      "2  2002-07-15  5.324265  5.479718  4.618897  5.151323   3.794237  137526.0\n",
      "3  2002-07-22  5.080398  5.146465  4.729657  4.871508   3.588138  186250.0\n",
      "4  2002-07-29  4.223463  4.610153  3.903813  4.498421   3.313339  148651.0\n"
     ]
    }
   ],
   "source": [
    "df=pd.read_csv(\"./StockMarket/BAJFINANCE.NS.csv\")\n",
    "print(df.head())"
   ]
  },
  {
   "attachments": {},
   "cell_type": "markdown",
   "metadata": {},
   "source": [
    "### What we know now?\n",
    "The output from df.head() displays the first five rows of your stock price history data. Each row represents a week, and the columns provide information on various attributes of the stock price during that week. Here's a brief description of each column:\n",
    "\n",
    "* Date: The starting date of the week for which the data is recorded (in this case, Mondays). The dates are in the format YYYY-MM-DD.\n",
    "\n",
    "* Open: The opening stock price at the beginning of the week.\n",
    "\n",
    "* High: The highest stock price reached during the week.\n",
    "\n",
    "* Low: The lowest stock price reached during the week.\n",
    "\n",
    "* Close: The closing stock price at the end of the week.\n",
    "\n",
    "* Adj Close: The adjusted closing price, which is the closing price adjusted for dividends, stock splits, and new stock offerings. This is a more accurate reflection of the stock's value as it accounts for events that impact the stock price.\n",
    "\n",
    "* Volume: The total number of shares traded during the week.\n",
    "\n",
    "By analyzing this data, you can gain insights into stock price trends, volatility, and liquidity. Additionally, you can perform further calculations to determine various financial metrics and ratios, such as moving averages, rate of change, and other technical indicators to make informed investment decisions.\n",
    "\n"
   ]
  },
  {
   "attachments": {},
   "cell_type": "markdown",
   "metadata": {},
   "source": [
    "### Step 3: Clean and preprocess the data"
   ]
  },
  {
   "cell_type": "code",
   "execution_count": 5,
   "metadata": {},
   "outputs": [
    {
     "name": "stdout",
     "output_type": "stream",
     "text": [
      "Date         0\n",
      "Open         1\n",
      "High         1\n",
      "Low          1\n",
      "Close        1\n",
      "Adj Close    1\n",
      "Volume       1\n",
      "dtype: int64\n"
     ]
    }
   ],
   "source": [
    "print(df.isnull().sum())"
   ]
  },
  {
   "attachments": {},
   "cell_type": "markdown",
   "metadata": {},
   "source": [
    "When running `print(df.isnull().sum())`, it shows the number of missing (null) values in each column of the DataFrame. The output provided indicates the following:\n",
    "\n",
    "- **Date**: No missing values (0 nulls).\n",
    "- **Open**: One missing value (1 null).\n",
    "- **High**: One missing value (1 null).\n",
    "- **Low**: One missing value (1 null).\n",
    "- **Close**: One missing value (1 null).\n",
    "- **Adj Close**: One missing value (1 null).\n",
    "- **Volume**: One missing value (1 null).\n",
    "\n",
    "Now that there are missing values in your dataset, lets explaore how to handle them. You can either drop the rows with missing values or fill them with appropriate values, such as the mean, median, or interpolated values from surrounding data points.\n",
    "\n",
    "To drop the rows with missing values:\n",
    "\n",
    "```python\n",
    "df = df.dropna()\n",
    "```\n",
    "\n",
    "To fill the missing values with the mean of the respective columns:\n",
    "\n",
    "```python\n",
    "df = df.fillna(df.mean())\n",
    "```\n",
    "\n",
    "Keep in mind that the method you choose to handle missing values depends on the nature of the data and the analysis to be performed. In some cases, dropping the missing values might be more appropriate, while in others, filling them with the mean, median, or interpolated values might be a better option. In this case, we are going to drop the row since it is just one row."
   ]
  },
  {
   "cell_type": "markdown",
   "metadata": {},
   "source": []
  },
  {
   "cell_type": "code",
   "execution_count": 6,
   "metadata": {},
   "outputs": [],
   "source": [
    "df=df.dropna()"
   ]
  },
  {
   "attachments": {},
   "cell_type": "markdown",
   "metadata": {},
   "source": [
    "### Step 4: Perform exploratory data analysis (EDA)"
   ]
  },
  {
   "cell_type": "code",
   "execution_count": 7,
   "metadata": {},
   "outputs": [
    {
     "name": "stdout",
     "output_type": "stream",
     "text": [
      "              Open         High          Low        Close    Adj Close   \n",
      "count  1087.000000  1087.000000  1087.000000  1087.000000  1087.000000  \\\n",
      "mean   1317.189283  1363.815541  1271.149951  1322.387956  1313.427083   \n",
      "std    2126.291493  2195.467536  2058.928970  2131.516944  2125.416360   \n",
      "min       3.953364     4.245810     3.673548     4.064124     2.993454   \n",
      "25%      30.264755    32.552343    29.429195    30.638814    27.828747   \n",
      "50%     115.132378   121.495003   110.000000   115.019997   111.788040   \n",
      "75%    1826.000000  1865.950012  1765.500000  1837.500000  1817.374024   \n",
      "max    8050.000000  8050.000000  7750.000000  7862.899902  7834.374023   \n",
      "\n",
      "             Volume  \n",
      "count  1.087000e+03  \n",
      "mean   4.502500e+06  \n",
      "std    8.752881e+06  \n",
      "min    1.813300e+04  \n",
      "25%    5.491495e+05  \n",
      "50%    1.748611e+06  \n",
      "75%    4.946326e+06  \n",
      "max    9.322902e+07  \n"
     ]
    }
   ],
   "source": [
    "print(df.describe())"
   ]
  },
  {
   "attachments": {},
   "cell_type": "markdown",
   "metadata": {},
   "source": [
    "The `print(df.describe())` function provides a summary of the central tendency, dispersion, and distribution shape of your dataset for each numerical column. Here's what the output tells you:\n",
    "\n",
    "1. **count**: The total number of non-null (valid) values in each column.\n",
    "2. **mean**: The average value of each column.\n",
    "3. **std**: The standard deviation of each column, which is a measure of the dispersion or spread of the data.\n",
    "4. **min**: The minimum value in each column.\n",
    "5. **25%**: The first quartile value (Q1) in each column, which is the value at the 25th percentile. 25% of the data falls below this value.\n",
    "6. **50%**: The median or second quartile value (Q2) in each column, which is the value at the 50th percentile. 50% of the data falls below this value.\n",
    "7. **75%**: The third quartile value (Q3) in each column, which is the value at the 75th percentile. 75% of the data falls below this value.\n",
    "8. **max**: The maximum value in each column.\n",
    "\n",
    "From this summary, you can gather information about the distribution of the data in each column. For example, you can see that the average (mean) opening price is around 1317.19, while the median (50th percentile) opening price is 115.13. This suggests that the opening prices are positively skewed, with a few very high values pulling the mean upward.\n",
    "\n",
    "Similarly, you can observe that the average trading volume is approximately 4.5 million shares, with a standard deviation of 8.75 million shares. This indicates that there is a considerable variation in the trading volume across the weeks in the dataset.\n",
    "\n",
    "These descriptive statistics can help you better understand the data and inform the subsequent analysis or visualization steps."
   ]
  },
  {
   "attachments": {},
   "cell_type": "markdown",
   "metadata": {},
   "source": [
    "### Step 5: Calculate descriptive statistics\n",
    "\n",
    "Calculate the correlation between the weekly prices. But *HOW*? \n",
    "\n",
    "We will do this by calculating the correlation matrix of the numerical columns in the DataFrame using the `df.corr()` function. The correlation matrix is a square matrix that shows the correlation coefficients between each pair of variables. \n",
    "\n",
    "The correlation coefficient, often denoted as 'r', is a statistical measure of the strength and direction of the linear relationship between two variables. It ranges from -1 to 1, where:\n",
    "\n",
    "- A value of 1 indicates a perfect positive linear relationship (i.e., when one variable increases, the other variable also increases, and vice versa).\n",
    "- A value of -1 indicates a perfect negative linear relationship (i.e., when one variable increases, the other variable decreases, and vice versa).\n",
    "- A value of 0 indicates no linear relationship between the two variables.\n",
    "\n",
    "The `df.corr()` function computes the correlation coefficients using the Pearson correlation method by default, which is a widely used measure of linear correlation between two variables.\n",
    "\n",
    "Here's an example of how the output might look:\n",
    "\n",
    "```\n",
    "           Open      High       Low     Close  Adj Close    Volume\n",
    "Open       1.000000  0.998971  0.998563  0.998352   0.998259 -0.439086\n",
    "High       0.998971  1.000000  0.998395  0.998980   0.998893 -0.436275\n",
    "Low        0.998563  0.998395  1.000000  0.998816   0.998714 -0.443810\n",
    "Close      0.998352  0.998980  0.998816  1.000000   0.999909 -0.439559\n",
    "Adj Close  0.998259  0.998893  0.998714  0.999909   1.000000 -0.439778\n",
    "Volume    -0.439086 -0.436275 -0.443810 -0.439559  -0.439778  1.000000\n",
    "```\n",
    "\n",
    "In this example, the correlation coefficients between Open, High, Low, Close, and Adj Close are close to 1, indicating a strong positive linear relationship between these variables, which is expected since they are all related to the stock price. The correlation coefficients between Volume and the other variables are negative and smaller in magnitude, suggesting a weaker and inverse relationship between Volume and stock prices.\n",
    "\n",
    "Calculating the correlation matrix can help you identify relationships between variables in your dataset, which can be useful in various analyses, such as feature selection, portfolio optimization, and risk management."
   ]
  },
  {
   "cell_type": "markdown",
   "metadata": {},
   "source": []
  },
  {
   "cell_type": "code",
   "execution_count": 8,
   "metadata": {},
   "outputs": [
    {
     "ename": "ValueError",
     "evalue": "could not convert string to float: '2002-07-01'",
     "output_type": "error",
     "traceback": [
      "\u001b[0;31m---------------------------------------------------------------------------\u001b[0m",
      "\u001b[0;31mValueError\u001b[0m                                Traceback (most recent call last)",
      "Cell \u001b[0;32mIn[8], line 1\u001b[0m\n\u001b[0;32m----> 1\u001b[0m correlation_matrix \u001b[39m=\u001b[39m df\u001b[39m.\u001b[39;49mcorr()\n\u001b[1;32m      2\u001b[0m \u001b[39mprint\u001b[39m(correlation_matrix)\n",
      "File \u001b[0;32m~/anaconda3/lib/python3.10/site-packages/pandas/core/frame.py:10059\u001b[0m, in \u001b[0;36mDataFrame.corr\u001b[0;34m(self, method, min_periods, numeric_only)\u001b[0m\n\u001b[1;32m  10057\u001b[0m cols \u001b[39m=\u001b[39m data\u001b[39m.\u001b[39mcolumns\n\u001b[1;32m  10058\u001b[0m idx \u001b[39m=\u001b[39m cols\u001b[39m.\u001b[39mcopy()\n\u001b[0;32m> 10059\u001b[0m mat \u001b[39m=\u001b[39m data\u001b[39m.\u001b[39;49mto_numpy(dtype\u001b[39m=\u001b[39;49m\u001b[39mfloat\u001b[39;49m, na_value\u001b[39m=\u001b[39;49mnp\u001b[39m.\u001b[39;49mnan, copy\u001b[39m=\u001b[39;49m\u001b[39mFalse\u001b[39;49;00m)\n\u001b[1;32m  10061\u001b[0m \u001b[39mif\u001b[39;00m method \u001b[39m==\u001b[39m \u001b[39m\"\u001b[39m\u001b[39mpearson\u001b[39m\u001b[39m\"\u001b[39m:\n\u001b[1;32m  10062\u001b[0m     correl \u001b[39m=\u001b[39m libalgos\u001b[39m.\u001b[39mnancorr(mat, minp\u001b[39m=\u001b[39mmin_periods)\n",
      "File \u001b[0;32m~/anaconda3/lib/python3.10/site-packages/pandas/core/frame.py:1838\u001b[0m, in \u001b[0;36mDataFrame.to_numpy\u001b[0;34m(self, dtype, copy, na_value)\u001b[0m\n\u001b[1;32m   1836\u001b[0m \u001b[39mif\u001b[39;00m dtype \u001b[39mis\u001b[39;00m \u001b[39mnot\u001b[39;00m \u001b[39mNone\u001b[39;00m:\n\u001b[1;32m   1837\u001b[0m     dtype \u001b[39m=\u001b[39m np\u001b[39m.\u001b[39mdtype(dtype)\n\u001b[0;32m-> 1838\u001b[0m result \u001b[39m=\u001b[39m \u001b[39mself\u001b[39;49m\u001b[39m.\u001b[39;49m_mgr\u001b[39m.\u001b[39;49mas_array(dtype\u001b[39m=\u001b[39;49mdtype, copy\u001b[39m=\u001b[39;49mcopy, na_value\u001b[39m=\u001b[39;49mna_value)\n\u001b[1;32m   1839\u001b[0m \u001b[39mif\u001b[39;00m result\u001b[39m.\u001b[39mdtype \u001b[39mis\u001b[39;00m \u001b[39mnot\u001b[39;00m dtype:\n\u001b[1;32m   1840\u001b[0m     result \u001b[39m=\u001b[39m np\u001b[39m.\u001b[39marray(result, dtype\u001b[39m=\u001b[39mdtype, copy\u001b[39m=\u001b[39m\u001b[39mFalse\u001b[39;00m)\n",
      "File \u001b[0;32m~/anaconda3/lib/python3.10/site-packages/pandas/core/internals/managers.py:1732\u001b[0m, in \u001b[0;36mBlockManager.as_array\u001b[0;34m(self, dtype, copy, na_value)\u001b[0m\n\u001b[1;32m   1730\u001b[0m         arr\u001b[39m.\u001b[39mflags\u001b[39m.\u001b[39mwriteable \u001b[39m=\u001b[39m \u001b[39mFalse\u001b[39;00m\n\u001b[1;32m   1731\u001b[0m \u001b[39melse\u001b[39;00m:\n\u001b[0;32m-> 1732\u001b[0m     arr \u001b[39m=\u001b[39m \u001b[39mself\u001b[39;49m\u001b[39m.\u001b[39;49m_interleave(dtype\u001b[39m=\u001b[39;49mdtype, na_value\u001b[39m=\u001b[39;49mna_value)\n\u001b[1;32m   1733\u001b[0m     \u001b[39m# The underlying data was copied within _interleave, so no need\u001b[39;00m\n\u001b[1;32m   1734\u001b[0m     \u001b[39m# to further copy if copy=True or setting na_value\u001b[39;00m\n\u001b[1;32m   1736\u001b[0m \u001b[39mif\u001b[39;00m na_value \u001b[39mis\u001b[39;00m \u001b[39mnot\u001b[39;00m lib\u001b[39m.\u001b[39mno_default:\n",
      "File \u001b[0;32m~/anaconda3/lib/python3.10/site-packages/pandas/core/internals/managers.py:1794\u001b[0m, in \u001b[0;36mBlockManager._interleave\u001b[0;34m(self, dtype, na_value)\u001b[0m\n\u001b[1;32m   1792\u001b[0m     \u001b[39melse\u001b[39;00m:\n\u001b[1;32m   1793\u001b[0m         arr \u001b[39m=\u001b[39m blk\u001b[39m.\u001b[39mget_values(dtype)\n\u001b[0;32m-> 1794\u001b[0m     result[rl\u001b[39m.\u001b[39;49mindexer] \u001b[39m=\u001b[39m arr\n\u001b[1;32m   1795\u001b[0m     itemmask[rl\u001b[39m.\u001b[39mindexer] \u001b[39m=\u001b[39m \u001b[39m1\u001b[39m\n\u001b[1;32m   1797\u001b[0m \u001b[39mif\u001b[39;00m \u001b[39mnot\u001b[39;00m itemmask\u001b[39m.\u001b[39mall():\n",
      "\u001b[0;31mValueError\u001b[0m: could not convert string to float: '2002-07-01'"
     ]
    }
   ],
   "source": [
    "correlation_matrix = df.corr()\n",
    "print(correlation_matrix)"
   ]
  },
  {
   "attachments": {},
   "cell_type": "markdown",
   "metadata": {},
   "source": [
    "It returns an error :ValueError: could not convert string to float: '2002-07-01'\n",
    "The error occurs because the `df.corr()` function calculates correlation coefficients only for numerical columns, and your DataFrame contains a non-numerical column (Date) with string values representing dates.\n",
    "\n",
    "To resolve this issue, you need to exclude the non-numerical column(s) before calculating the correlation matrix. In this case, you can exclude the Date column as follows:\n",
    "\n",
    "```python\n",
    "# Create a new DataFrame without the Date column\n",
    "numerical_df = df.drop(columns=['Date'])\n",
    "\n",
    "# Calculate the correlation matrix for the numerical columns\n",
    "correlation_matrix = numerical_df.corr()\n",
    "\n",
    "# Print the correlation matrix\n",
    "print(correlation_matrix)\n",
    "```\n",
    "\n",
    "By removing the Date column before calculating the correlation matrix, you'll avoid the \"ValueError: could not convert string to float\" error, and the function should work as expected."
   ]
  },
  {
   "cell_type": "code",
   "execution_count": 9,
   "metadata": {},
   "outputs": [
    {
     "name": "stdout",
     "output_type": "stream",
     "text": [
      "               Open      High       Low     Close  Adj Close    Volume\n",
      "Open       1.000000  0.999267  0.999231  0.998511   0.998514  0.348148\n",
      "High       0.999267  1.000000  0.999077  0.999512   0.999506  0.359316\n",
      "Low        0.999231  0.999077  1.000000  0.999237   0.999252  0.340597\n",
      "Close      0.998511  0.999512  0.999237  1.000000   0.999994  0.354206\n",
      "Adj Close  0.998514  0.999506  0.999252  0.999994   1.000000  0.353546\n",
      "Volume     0.348148  0.359316  0.340597  0.354206   0.353546  1.000000\n"
     ]
    }
   ],
   "source": [
    "# Create a new DataFrame without the Date column\n",
    "numerical_df = df.drop(columns=['Date'])\n",
    "\n",
    "# Calculate the correlation matrix for the numerical columns\n",
    "correlation_matrix = numerical_df.corr()\n",
    "\n",
    "# Print the correlation matrix\n",
    "print(correlation_matrix)"
   ]
  },
  {
   "attachments": {},
   "cell_type": "markdown",
   "metadata": {},
   "source": [
    "Here's an interpretation of the results:\n",
    "\n",
    "Open, High, Low, Close, and Adj Close: All of these variables are related to the stock price, so it's not surprising that their correlation coefficients are close to 1, indicating a strong positive linear relationship. This means that when one of these variables increases or decreases, the others tend to increase or decrease as well. The correlation between Close and Adj Close is almost 1, which makes sense since the adjusted closing price is just the closing price adjusted for dividends, stock splits, and new stock offerings.\n",
    "\n",
    "Volume: The correlation coefficients between Volume and the stock price variables (Open, High, Low, Close, and Adj Close) are positive, but smaller in magnitude, ranging from around 0.34 to 0.36. This indicates a moderate positive linear relationship between trading volume and stock prices. When the stock price increases or decreases, the trading volume tends to increase as well, but not as strongly as the relationships between the stock price variables.\n",
    "\n",
    "These correlations can provide insights into the relationships between different aspects of the stock price history, which can be useful for various analyses such as identifying trends, building predictive models, or assessing the impact of trading volume on stock prices."
   ]
  },
  {
   "attachments": {},
   "cell_type": "markdown",
   "metadata": {},
   "source": [
    "### Step 6: Visualize the data\n",
    "\n",
    "Create a heatmap to visualize the correlation between the data points:"
   ]
  },
  {
   "cell_type": "code",
   "execution_count": 10,
   "metadata": {},
   "outputs": [
    {
     "data": {
      "image/png": "[encoded data removed]",
      "text/plain": [
       "<Figure size 640x480 with 2 Axes>"
      ]
     },
     "metadata": {},
     "output_type": "display_data"
    }
   ],
   "source": [
    "sns.heatmap(correlation_matrix, annot=True, cmap='coolwarm')\n",
    "plt.show()"
   ]
  },
  {
   "cell_type": "code",
   "execution_count": 17,
   "metadata": {},
   "outputs": [
    {
     "data": {
      "image/png": "[encoded data removed]",
      "text/plain": [
       "<Figure size 640x480 with 1 Axes>"
      ]
     },
     "metadata": {},
     "output_type": "display_data"
    }
   ],
   "source": [
    "# Convert the Date column to a datetime object\n",
    "df['Date'] = pd.to_datetime(df['Date'])\n",
    "\n",
    "# Set the Date column as the index\n",
    "df.set_index('Date', inplace=True)\n",
    "\n",
    "# Plot the Close (or Adj Close) prices\n",
    "plt.plot(df['Close'])\n",
    "plt.xlabel('Date')\n",
    "plt.ylabel('Price')\n",
    "plt.title('Weekly Price of Bajaj Finance')\n",
    "plt.show()"
   ]
  },
  {
   "attachments": {},
   "cell_type": "markdown",
   "metadata": {},
   "source": [
    "Your code snippet is a basic example of creating a line plot using the `matplotlib.pyplot` library, where you intend to visualize the weekly price of Bajaj Finance. However, the code provided has a couple of issues:\n",
    "\n",
    "1. The `plt.plot(df)` line will try to plot all numerical columns in the DataFrame, which might not be what you intend. If you want to specifically plot the Close (or Adj Close) prices, you should select the desired column before plotting.\n",
    "\n",
    "2. The x-axis should ideally represent the Date, not the week number. To do this, you need to set the Date column as the index of the DataFrame before plotting.\n",
    "\n",
    "Here's a modified version of your code:\n",
    "\n",
    "```python\n",
    "import matplotlib.pyplot as plt\n",
    "\n",
    "# Convert the Date column to a datetime object\n",
    "df['Date'] = pd.to_datetime(df['Date'])\n",
    "\n",
    "# Set the Date column as the index\n",
    "df.set_index('Date', inplace=True)\n",
    "\n",
    "# Plot the Close (or Adj Close) prices\n",
    "plt.plot(df['Close'])\n",
    "plt.xlabel('Date')\n",
    "plt.ylabel('Price')\n",
    "plt.title('Weekly Price of Bajaj Finance')\n",
    "plt.show()\n",
    "```\n",
    "\n",
    "This code snippet first converts the 'Date' column to a datetime object using `pd.to_datetime()`, sets it as the index of the DataFrame, and then plots the 'Close' prices against the 'Date' index. This should give you a more accurate and meaningful visualization of the weekly price of Bajaj Finance."
   ]
  }
 ],
 "metadata": {
  "kernelspec": {
   "display_name": "base",
   "language": "python",
   "name": "python3"
  },
  "language_info": {
   "codemirror_mode": {
    "name": "ipython",
    "version": 3
   },
   "file_extension": ".py",
   "mimetype": "text/x-python",
   "name": "python",
   "nbconvert_exporter": "python",
   "pygments_lexer": "ipython3",
   "version": "3.10.9"
  },
  "orig_nbformat": 4
 },
 "nbformat": 4,
 "nbformat_minor": 2
}
